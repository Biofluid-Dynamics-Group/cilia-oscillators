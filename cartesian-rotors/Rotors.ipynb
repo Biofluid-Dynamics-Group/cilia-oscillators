{
 "cells": [
  {
   "cell_type": "markdown",
   "metadata": {},
   "source": [
    "We are interested in solving the problem of modelling a single cilium as a moving sphere elastically bound to a circular trajectory (rotor). The equation of motion that the single rotor follows is, in dimensional form,\n",
    "\n",
    "$$\n",
    "    \\frac{\\mathrm{d}\\boldsymbol{x}}{\\mathrm{d}t} = \\boldsymbol{\\gamma}(\\boldsymbol{x})^{-1} \\left(- \\lambda(r(\\boldsymbol{x}) - r_0)\\boldsymbol{e}_{r}(\\boldsymbol{x}) - \\eta \\zeta(\\boldsymbol{x}) \\boldsymbol{e}_{\\zeta}(\\boldsymbol{x}) + f^{\\text{drive}} \\boldsymbol{e}_{\\theta}(\\boldsymbol{x}) \\right) \\text{.}\n",
    "$$"
   ]
  },
  {
   "cell_type": "markdown",
   "metadata": {},
   "source": [
    "Consider the dimensionless position $\\tilde{\\boldsymbol{x}} \\coloneqq \\frac{\\boldsymbol{x}}{d}$ and dimensionless time $\\tilde{t} \\coloneqq \\frac{t}{T}$ where $d$ is the distance of the centre of the prescribed trajectory to the no-slip wall at $x_3 = 0$ and $T$ is the period of a cilium. Replacing in the equation, we obtain\n",
    "\n",
    "$$\n",
    "    \\frac{\\mathrm{d}\\tilde{\\boldsymbol{x}}}{\\mathrm{d}\\tilde{t}} = \\boldsymbol{\\gamma}(d\\boldsymbol{\\tilde{x}})^{-1} \\left(- \\frac{T \\lambda}{d}(r(d\\tilde{\\boldsymbol{x}}) - r_0)\\boldsymbol{e}_{r}(d\\tilde{\\boldsymbol{x}}) - \\frac{T\\eta}{d} \\zeta(d\\tilde{\\boldsymbol{x}}) \\boldsymbol{e}_{\\zeta}(d\\tilde{\\boldsymbol{x}}) + \\frac{T f^{\\text{drive}}}{d} \\boldsymbol{e}_{\\theta}(d\\tilde{\\boldsymbol{x}}) \\right) \\text{.}\n",
    "$$"
   ]
  },
  {
   "cell_type": "markdown",
   "metadata": {},
   "source": [
    "Define the dimensionless elastic force $\\Lambda \\coloneqq \\frac{\\lambda d}{f^{\\text{drive}}}$ and obtain\n",
    "\n",
    "$$\n",
    "    \\frac{\\mathrm{d}\\tilde{\\boldsymbol{x}}}{\\mathrm{d}\\tilde{t}} = \\boldsymbol{\\gamma}(d\\boldsymbol{\\tilde{x}})^{-1} \\left(- \\frac{T \\Lambda f^{\\text{drive}}}{d^2}(r(d\\tilde{\\boldsymbol{x}}) - r_0)\\boldsymbol{e}_{r}(d\\tilde{\\boldsymbol{x}}) - \\frac{T\\eta}{d} \\zeta(d\\tilde{\\boldsymbol{x}}) \\boldsymbol{e}_{\\zeta}(d\\tilde{\\boldsymbol{x}}) + \\frac{T f^{\\text{drive}}}{d} \\boldsymbol{e}_{\\theta}(d\\tilde{\\boldsymbol{x}}) \\right) \\text{.}\n",
    "$$"
   ]
  },
  {
   "cell_type": "markdown",
   "metadata": {},
   "source": [
    "Define the driving force as $f^{\\text{drive}} \\coloneqq \\frac{2\\pi r_0 \\gamma_0}{T}$ where $r_0$ is the prescribed trajectory radius and $\\gamma_0 \\coloneqq 6 \\pi \\mu a$ is the Stokes drag for a sphere of radius $a$ (our sphere), and obtain\n",
    "\n",
    "$$\n",
    "    \\frac{\\mathrm{d}\\tilde{\\boldsymbol{x}}}{\\mathrm{d}\\tilde{t}} = \\boldsymbol{\\gamma}(d\\boldsymbol{\\tilde{x}})^{-1} \\left(- \\frac{2\\pi r_0 \\gamma_0 \\Lambda}{d^2}(r(d\\tilde{\\boldsymbol{x}}) - r_0)\\boldsymbol{e}_{r}(d\\tilde{\\boldsymbol{x}}) - \\frac{T\\eta}{d} \\zeta(d\\tilde{\\boldsymbol{x}}) \\boldsymbol{e}_{\\zeta}(d\\tilde{\\boldsymbol{x}}) + \\frac{2 \\pi r_0 \\gamma_0}{d} \\boldsymbol{e}_{\\theta}(d\\tilde{\\boldsymbol{x}}) \\right) \\text{.}\n",
    "$$"
   ]
  },
  {
   "cell_type": "markdown",
   "metadata": {},
   "source": [
    "Note that\n",
    "\n",
    "$$\n",
    "    \\boldsymbol{\\gamma}(\\boldsymbol{x}) \\coloneqq \\gamma_0 \\left(\\boldsymbol{I} + \\frac{9 a}{16 x_3} \\left(\\boldsymbol{I} + \\boldsymbol{e}_{3} \\otimes \\boldsymbol{e}_3\\right)\\right)\n",
    "$$\n",
    "\n",
    "from which\n",
    "\n",
    "$$\n",
    "    \\boldsymbol{\\gamma}(\\boldsymbol{x})^{-1} = \\frac{1}{\\gamma_0} \\left(\\boldsymbol{I} + \\frac{9 a}{16 x_3} \\left(\\boldsymbol{I} + \\boldsymbol{e}_{3} \\otimes \\boldsymbol{e}_3\\right)\\right)^{-1} \\text{.}\n",
    "$$"
   ]
  },
  {
   "cell_type": "markdown",
   "metadata": {},
   "source": [
    "Then,\n",
    "\n",
    "$$\n",
    "    \\tilde{\\boldsymbol{\\gamma}}(\\tilde{\\boldsymbol{x}}) \\coloneqq \\gamma_0 \\boldsymbol{\\gamma}(d\\tilde{\\boldsymbol{x}}) = \\left(\\boldsymbol{I} + \\frac{9 a}{16 d \\tilde{x}_3}\\left(I + \\boldsymbol{e}_{3} \\otimes \\boldsymbol{e}_3\\right)\\right) \\text{.}\n",
    "$$"
   ]
  },
  {
   "cell_type": "markdown",
   "metadata": {},
   "source": [
    "The cylindrical basis vectors are unchanged under scaling. Coordinates $r, \\zeta, \\theta$ are bilinear functions of the position and the basis vectors, and therefore linear on the position. Then,\n",
    "\n",
    "$$\n",
    "    \\frac{\\mathrm{d}\\tilde{\\boldsymbol{x}}}{\\mathrm{d}\\tilde{t}} = \\tilde{\\boldsymbol{\\gamma}}(\\boldsymbol{\\tilde{x}})^{-1} \\left(-\\frac{2\\pi r_0 \\Lambda}{d^2}(dr(\\tilde{\\boldsymbol{x}}) - r_0)\\boldsymbol{e}_{r}(\\tilde{\\boldsymbol{x}}) - \\frac{T\\eta}{\\gamma_0} \\zeta(\\boldsymbol{\\tilde{\\boldsymbol{x}}}) \\boldsymbol{e}_{\\zeta}(\\tilde{\\boldsymbol{x}}) + \\frac{2 \\pi r_0}{d}\\boldsymbol{e}_{\\theta}(\\tilde{\\boldsymbol{x}}) \\right) \\text{.}\n",
    "$$"
   ]
  },
  {
   "cell_type": "markdown",
   "metadata": {},
   "source": [
    "Finally, the dimensionless equation of motion reads\n",
    "\n",
    "$$\n",
    "    \\frac{\\mathrm{d}\\tilde{\\boldsymbol{x}}}{\\mathrm{d}\\tilde{t}} = \\tilde{\\boldsymbol{\\gamma}}(\\boldsymbol{\\tilde{x}})^{-1} \\left(- 2\\pi \\tilde{r}_0 \\Lambda( r(\\tilde{\\boldsymbol{x}}) - \\tilde{r}_0)\\boldsymbol{e}_{r}(\\tilde{\\boldsymbol{x}}) - \\tilde{\\eta} \\zeta(\\boldsymbol{\\tilde{\\boldsymbol{x}}}) \\boldsymbol{e}_{\\zeta}(\\tilde{\\boldsymbol{x}}) + 2\\pi \\tilde{r}_0\\boldsymbol{e}_{\\theta}(\\tilde{\\boldsymbol{x}}) \\right) \\text{.}\n",
    "$$\n",
    "\n",
    "where $\\tilde{\\eta} \\coloneqq \\frac{T\\eta}{\\gamma_0}$, $\\tilde{r}_0 \\coloneqq \\frac{r_0}{d}$. Further,\n",
    "\n",
    "$$\n",
    "    \\tilde{\\boldsymbol{\\gamma}}(\\tilde{\\boldsymbol{x}})^{-1} = \\left(\\boldsymbol{I} + \\frac{9 \\tilde{a}}{16 \\tilde{x}_3}\\left(I + \\boldsymbol{e}_{3} \\otimes \\boldsymbol{e}_3\\right)\\right)^{-1}\n",
    "$$\n",
    "\n",
    "with $\\tilde{a} \\coloneqq \\frac{a}{d}$."
   ]
  },
  {
   "cell_type": "markdown",
   "metadata": {},
   "source": [
    "Rewriting for better code, we set $A \\coloneqq \\tilde{a}$, $H \\coloneqq \\tilde{\\eta}$, $R \\coloneqq \\tilde{r}_0$, $\\Gamma \\coloneqq \\tilde{\\gamma}$. Removing tildes from the dimensionless position and time variables we end up with\n",
    "\n",
    "$$\n",
    "    \\frac{\\mathrm{d}\\boldsymbol{x}}{\\mathrm{d}t} = \\boldsymbol{\\Gamma}(\\boldsymbol{x})^{-1} \\left( -2\\pi R \\Lambda (r(\\boldsymbol{x}) - R) \\boldsymbol{e}_{r}(\\boldsymbol{x}) - H \\zeta(\\boldsymbol{x}) \\boldsymbol{e}_\\zeta + 2\\pi R \\boldsymbol{e}_{\\theta}(\\boldsymbol{x})  \\right) \\text{.}\n",
    "$$"
   ]
  }
 ],
 "metadata": {
  "language_info": {
   "name": "python"
  }
 },
 "nbformat": 4,
 "nbformat_minor": 2
}
